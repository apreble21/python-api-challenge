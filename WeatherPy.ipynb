{
 "cells": [
  {
   "cell_type": "markdown",
   "metadata": {},
   "source": [
    "# WeatherPy\n",
    "----\n",
    "\n",
    "#### Note\n",
    "* Instructions have been included for each segment. You do not have to follow them exactly, but they are included to help you think through the steps."
   ]
  },
  {
   "cell_type": "code",
   "execution_count": 133,
   "metadata": {
    "scrolled": true
   },
   "outputs": [],
   "source": [
    "# Dependencies and Setup\n",
    "import matplotlib.pyplot as plt\n",
    "import pandas as pd\n",
    "import numpy as np\n",
    "import requests\n",
    "import time\n",
    "from scipy.stats import linregress\n",
    "\n",
    "# Import API key\n",
    "from api_key import weather_api_key as api_key\n",
    "\n",
    "# Incorporated citipy to determine city based on latitude and longitude\n",
    "from citipy import citipy\n",
    "\n",
    "# Output File (CSV)\n",
    "output_data_file = \"output_data/cities.csv\"\n",
    "\n",
    "# Range of latitudes and longitudes\n",
    "lat_range = (-90, 90)\n",
    "lng_range = (-180, 180)"
   ]
  },
  {
   "cell_type": "markdown",
   "metadata": {},
   "source": [
    "## Generate Cities List"
   ]
  },
  {
   "cell_type": "code",
   "execution_count": 134,
   "metadata": {},
   "outputs": [
    {
     "data": {
      "text/plain": [
       "609"
      ]
     },
     "execution_count": 134,
     "metadata": {},
     "output_type": "execute_result"
    }
   ],
   "source": [
    "# List for holding lat_lngs, cities, & country code\n",
    "lat_lngs = []\n",
    "cities = []\n",
    "country_code = []\n",
    "\n",
    "# Create a set of random lat and lng combinations\n",
    "lats = np.random.uniform(lat_range[0], lat_range[1], size=1500)\n",
    "lngs = np.random.uniform(lng_range[0], lng_range[1], size=1500)\n",
    "lat_lngs = zip(lats, lngs)\n",
    "\n",
    "# Identify nearest city & country code for each lat, lng combination\n",
    "for lat_lng in lat_lngs:\n",
    "    city = citipy.nearest_city(lat_lng[0], lat_lng[1]).city_name\n",
    "    country = citipy.nearest_city(lat_lng[0], lat_lng[1]).country_code\n",
    "    \n",
    "    # If the city is unique, add city to the cities list & country to country code list\n",
    "    if city not in cities:\n",
    "        cities.append(city)\n",
    "        country_code.append(country.upper())\n",
    "\n",
    "# Print the city count to confirm sufficient count\n",
    "len(cities)"
   ]
  },
  {
   "cell_type": "markdown",
   "metadata": {},
   "source": [
    "### Create DataFrame Perform API Calls\n",
    "* Create DataFrame with City & Country Code Data, create empty columns for API responses.\n",
    "* Perform a weather check on each city using a series of successive API calls.\n",
    "* Populate DataFrame with responses.\n",
    "* Include a print log of each city as it'sbeing processed (with the city number and city name)."
   ]
  },
  {
   "cell_type": "code",
   "execution_count": 135,
   "metadata": {},
   "outputs": [
    {
     "data": {
      "text/html": [
       "<div>\n",
       "<style scoped>\n",
       "    .dataframe tbody tr th:only-of-type {\n",
       "        vertical-align: middle;\n",
       "    }\n",
       "\n",
       "    .dataframe tbody tr th {\n",
       "        vertical-align: top;\n",
       "    }\n",
       "\n",
       "    .dataframe thead th {\n",
       "        text-align: right;\n",
       "    }\n",
       "</style>\n",
       "<table border=\"1\" class=\"dataframe\">\n",
       "  <thead>\n",
       "    <tr style=\"text-align: right;\">\n",
       "      <th></th>\n",
       "      <th>City</th>\n",
       "      <th>Country</th>\n",
       "      <th>Lat</th>\n",
       "      <th>Lng</th>\n",
       "      <th>Current Temp (°F)</th>\n",
       "      <th>Min Temp (°F)</th>\n",
       "      <th>Max Temp (°F)</th>\n",
       "      <th>Humidity (%)</th>\n",
       "      <th>Cloudiness (%)</th>\n",
       "      <th>Wind Speed (mph)</th>\n",
       "      <th>Date (unix)</th>\n",
       "    </tr>\n",
       "  </thead>\n",
       "  <tbody>\n",
       "    <tr>\n",
       "      <th>0</th>\n",
       "      <td>longyearbyen</td>\n",
       "      <td>SJ</td>\n",
       "      <td></td>\n",
       "      <td></td>\n",
       "      <td></td>\n",
       "      <td></td>\n",
       "      <td></td>\n",
       "      <td></td>\n",
       "      <td></td>\n",
       "      <td></td>\n",
       "      <td></td>\n",
       "    </tr>\n",
       "    <tr>\n",
       "      <th>1</th>\n",
       "      <td>sola</td>\n",
       "      <td>VU</td>\n",
       "      <td></td>\n",
       "      <td></td>\n",
       "      <td></td>\n",
       "      <td></td>\n",
       "      <td></td>\n",
       "      <td></td>\n",
       "      <td></td>\n",
       "      <td></td>\n",
       "      <td></td>\n",
       "    </tr>\n",
       "    <tr>\n",
       "      <th>2</th>\n",
       "      <td>mataura</td>\n",
       "      <td>PF</td>\n",
       "      <td></td>\n",
       "      <td></td>\n",
       "      <td></td>\n",
       "      <td></td>\n",
       "      <td></td>\n",
       "      <td></td>\n",
       "      <td></td>\n",
       "      <td></td>\n",
       "      <td></td>\n",
       "    </tr>\n",
       "    <tr>\n",
       "      <th>3</th>\n",
       "      <td>pochutla</td>\n",
       "      <td>MX</td>\n",
       "      <td></td>\n",
       "      <td></td>\n",
       "      <td></td>\n",
       "      <td></td>\n",
       "      <td></td>\n",
       "      <td></td>\n",
       "      <td></td>\n",
       "      <td></td>\n",
       "      <td></td>\n",
       "    </tr>\n",
       "    <tr>\n",
       "      <th>4</th>\n",
       "      <td>hambantota</td>\n",
       "      <td>LK</td>\n",
       "      <td></td>\n",
       "      <td></td>\n",
       "      <td></td>\n",
       "      <td></td>\n",
       "      <td></td>\n",
       "      <td></td>\n",
       "      <td></td>\n",
       "      <td></td>\n",
       "      <td></td>\n",
       "    </tr>\n",
       "  </tbody>\n",
       "</table>\n",
       "</div>"
      ],
      "text/plain": [
       "           City Country Lat Lng Current Temp (°F) Min Temp (°F) Max Temp (°F)  \\\n",
       "0  longyearbyen      SJ                                                         \n",
       "1          sola      VU                                                         \n",
       "2       mataura      PF                                                         \n",
       "3      pochutla      MX                                                         \n",
       "4    hambantota      LK                                                         \n",
       "\n",
       "  Humidity (%) Cloudiness (%) Wind Speed (mph) Date (unix)  \n",
       "0                                                           \n",
       "1                                                           \n",
       "2                                                           \n",
       "3                                                           \n",
       "4                                                           "
      ]
     },
     "execution_count": 135,
     "metadata": {},
     "output_type": "execute_result"
    }
   ],
   "source": [
    "#Create a dataframe to store the data\n",
    "weather_df = pd.DataFrame({'City': cities, 'Country': country_code, 'Lat': \"\", 'Lng': \"\",\n",
    "                             'Current Temp (\\u00b0F)': \"\",'Min Temp (\\u00b0F)': \"\",\n",
    "                             'Max Temp (\\u00b0F)': \"\",'Humidity (%)': \"\", \n",
    "                             'Cloudiness (%)': \"\", 'Wind Speed (mph)': \"\", 'Date (unix)': \"\"})\n",
    "\n",
    "#Preview the dataframe\n",
    "weather_df.head()\n"
   ]
  },
  {
   "cell_type": "code",
   "execution_count": 136,
   "metadata": {},
   "outputs": [
    {
     "name": "stdout",
     "output_type": "stream",
     "text": [
      "\n",
      "-----------------------------\n",
      "Starting Data Retrieval\n",
      "-----------------------------\n",
      "Processing 1 of Set 1 | Los Lunas\n",
      "Processing 2 of Set 1 | Avarua\n",
      "Processing 3 of Set 1 | Santa María del Oro\n",
      "Processing 4 of Set 1 | Hermanus\n",
      "Processing 5 of Set 1 | Ranong\n",
      "Processing 6 of Set 1 | Saint-Philippe\n",
      "Processing 7 of Set 1 | Hobart\n",
      "Processing 8 of Set 1 | Broome\n",
      "Processing 9 of Set 1 | Batemans Bay\n",
      "Processing 10 of Set 1 | Geraldton\n",
      "Processing 11 of Set 1 | Bengkulu\n",
      "Processing 12 of Set 1 | Port Lincoln\n",
      "Processing 13 of Set 1 | Souillac\n",
      "Processing 14 of Set 1 | Busselton\n",
      "Skip, city not found\n",
      "Processing 15 of Set 1 | Rikitea\n",
      "Processing 16 of Set 1 | Ushuaia\n",
      "Processing 17 of Set 1 | Hilo\n",
      "Processing 18 of Set 1 | Türkan\n",
      "Processing 19 of Set 1 | Hithadhoo\n",
      "Processing 20 of Set 1 | Quatis\n",
      "Processing 21 of Set 1 | Meulaboh\n",
      "Skip, city not found\n",
      "Processing 22 of Set 1 | Lorengau\n",
      "Processing 23 of Set 1 | Pechenga\n",
      "Processing 24 of Set 1 | Yeppoon\n",
      "Processing 25 of Set 1 | Sitka\n",
      "Processing 26 of Set 1 | Nikolskoye\n",
      "Processing 27 of Set 1 | Okhotsk\n",
      "Processing 28 of Set 1 | Ixtapa\n",
      "Processing 29 of Set 1 | Albany\n",
      "Processing 30 of Set 1 | Paamiut\n",
      "Processing 31 of Set 1 | Bluff\n",
      "Processing 32 of Set 1 | Cape Town\n",
      "Skip, city not found\n",
      "Processing 33 of Set 1 | Tadine\n",
      "Processing 34 of Set 1 | Kavieng\n",
      "Processing 35 of Set 1 | Castro\n",
      "Processing 36 of Set 1 | Wexford\n",
      "Processing 37 of Set 1 | Dingle\n",
      "Processing 38 of Set 1 | Ilulissat\n",
      "Processing 39 of Set 1 | Indiana\n",
      "Processing 40 of Set 1 | Charagua\n",
      "Processing 41 of Set 1 | Punta Arenas\n",
      "Processing 42 of Set 1 | East London\n",
      "Processing 43 of Set 1 | Kapaa\n",
      "Processing 44 of Set 1 | Port Keats\n",
      "Processing 45 of Set 1 | Butaritari\n",
      "Processing 46 of Set 1 | Qena\n",
      "Processing 47 of Set 1 | Vila Franca do Campo\n",
      "Processing 48 of Set 1 | Fortuna\n",
      "Processing 49 of Set 1 | Kijang\n",
      "Processing 50 of Set 1 | Taltal\n",
      "Processing 1 of Set 2 | Tongren\n",
      "Processing 2 of Set 2 | Zhigalovo\n",
      "Skip, city not found\n",
      "Processing 3 of Set 2 | Bethel\n",
      "Processing 4 of Set 2 | Mar del Plata\n",
      "Processing 5 of Set 2 | Mitchell\n",
      "Processing 6 of Set 2 | Guerrero Negro\n",
      "Processing 7 of Set 2 | Atuona\n",
      "Processing 8 of Set 2 | Tasiilaq\n",
      "Processing 9 of Set 2 | Port Alfred\n",
      "Processing 10 of Set 2 | Ahipara\n",
      "Processing 11 of Set 2 | Upernavik\n",
      "Processing 12 of Set 2 | Kati\n",
      "Processing 13 of Set 2 | Siocon\n",
      "Processing 14 of Set 2 | Cilegon\n",
      "Skip, city not found\n",
      "Skip, city not found\n",
      "Processing 15 of Set 2 | Iguape\n",
      "Processing 16 of Set 2 | Bredasdorp\n",
      "Processing 17 of Set 2 | Maceió\n",
      "Processing 18 of Set 2 | Sur\n",
      "Processing 19 of Set 2 | Pandan\n",
      "Processing 20 of Set 2 | São Filipe\n",
      "Processing 21 of Set 2 | Blankenberge\n",
      "Processing 22 of Set 2 | Bud\n",
      "Skip, city not found\n",
      "Processing 23 of Set 2 | Adrar\n",
      "Skip, city not found\n",
      "Processing 24 of Set 2 | Barrow\n",
      "Skip, city not found\n",
      "Processing 25 of Set 2 | Ayan\n",
      "Processing 26 of Set 2 | Jamestown\n",
      "Processing 27 of Set 2 | Puerto Ayora\n",
      "Processing 28 of Set 2 | Mahébourg\n",
      "Processing 29 of Set 2 | Portobelo\n",
      "Processing 30 of Set 2 | Bogorodskoye\n",
      "Processing 31 of Set 2 | Thompson\n",
      "Processing 32 of Set 2 | Dabou\n",
      "Processing 33 of Set 2 | Sursk\n",
      "Processing 34 of Set 2 | Nanortalik\n",
      "Processing 35 of Set 2 | Qaanaaq\n",
      "Processing 36 of Set 2 | Rocky Mountain House\n",
      "Processing 37 of Set 2 | Victoria\n",
      "Processing 38 of Set 2 | Port Elizabeth\n",
      "Processing 39 of Set 2 | Carnarvon\n",
      "Processing 40 of Set 2 | Sambava\n",
      "Processing 41 of Set 2 | Tuktoyaktuk\n",
      "Processing 42 of Set 2 | Yulara\n",
      "Processing 43 of Set 2 | Diego de Almagro\n",
      "Processing 44 of Set 2 | Cayenne\n",
      "Processing 45 of Set 2 | Luganville\n",
      "Processing 46 of Set 2 | Zaysan\n",
      "Processing 47 of Set 2 | Komsomol'skiy\n",
      "Processing 48 of Set 2 | Kumul\n",
      "Processing 49 of Set 2 | Belgrade\n",
      "Processing 50 of Set 2 | Kapuskasing\n",
      "Processing 1 of Set 3 | Vaini\n",
      "Processing 2 of Set 3 | El'brus\n",
      "Processing 3 of Set 3 | Saskylakh\n",
      "Processing 4 of Set 3 | Alihe\n",
      "Processing 5 of Set 3 | Oppdal\n",
      "Processing 6 of Set 3 | Kysyl-Syr\n",
      "Processing 7 of Set 3 | Chokurdakh\n",
      "Processing 8 of Set 3 | Port Hedland\n",
      "Processing 9 of Set 3 | Beyneu\n",
      "Processing 10 of Set 3 | Todos Santos\n",
      "Processing 11 of Set 3 | Provideniya\n",
      "Processing 12 of Set 3 | Kinkala\n",
      "Processing 13 of Set 3 | New Norfolk\n",
      "Processing 14 of Set 3 | Tiksi\n",
      "Processing 15 of Set 3 | São João da Barra\n",
      "Processing 16 of Set 3 | Walvis Bay\n",
      "Skip, city not found\n",
      "Processing 17 of Set 3 | Aklavik\n",
      "Processing 18 of Set 3 | Quatre Cocos\n",
      "Processing 19 of Set 3 | Bambous Virieux\n",
      "Processing 20 of Set 3 | Camacha\n",
      "Processing 21 of Set 3 | Vestmannaeyjar\n",
      "Processing 22 of Set 3 | Saint-Georges\n",
      "Processing 23 of Set 3 | Lakes Entrance\n",
      "Processing 24 of Set 3 | Longyearbyen\n",
      "Processing 25 of Set 3 | Orchard Homes\n",
      "Processing 26 of Set 3 | Kismayo\n",
      "Processing 27 of Set 3 | Plyussa\n",
      "Processing 28 of Set 3 | Zhangye\n",
      "Processing 29 of Set 3 | Ossora\n",
      "Skip, city not found\n",
      "Processing 30 of Set 3 | Tutayev\n",
      "Processing 31 of Set 3 | Stornoway\n",
      "Processing 32 of Set 3 | Chenghai\n",
      "Processing 33 of Set 3 | Los Llanos de Aridane\n",
      "Processing 34 of Set 3 | Bamiantong\n",
      "Processing 35 of Set 3 | Cape Canaveral\n",
      "Processing 36 of Set 3 | Chimbote\n",
      "Processing 37 of Set 3 | Inhambane\n",
      "Processing 38 of Set 3 | Uruana\n",
      "Skip, city not found\n",
      "Processing 39 of Set 3 | Metro\n",
      "Processing 40 of Set 3 | Ancud\n",
      "Processing 41 of Set 3 | Celestún\n",
      "Processing 42 of Set 3 | Ponnāni\n",
      "Processing 43 of Set 3 | Vicuña\n",
      "Processing 44 of Set 3 | Urubamba\n",
      "Skip, city not found\n",
      "Processing 45 of Set 3 | Pisco\n",
      "Processing 46 of Set 3 | Nemuro\n",
      "Processing 47 of Set 3 | Faanui\n",
      "Skip, city not found\n",
      "Processing 48 of Set 3 | Cherskiy\n",
      "Processing 49 of Set 3 | Quincy\n",
      "Processing 50 of Set 3 | Buraidah\n",
      "Processing 1 of Set 4 | Bathsheba\n",
      "Processing 2 of Set 4 | Ketchikan\n",
      "Processing 3 of Set 4 | Hotaka\n",
      "Processing 4 of Set 4 | Klaksvík\n",
      "Processing 5 of Set 4 | Rundu\n",
      "Processing 6 of Set 4 | Suamico\n",
      "Processing 7 of Set 4 | Ponta do Sol\n",
      "Processing 8 of Set 4 | Kawalu\n",
      "Processing 9 of Set 4 | Al Bardīyah\n",
      "Processing 10 of Set 4 | Oranjemund\n",
      "Skip, city not found\n",
      "Skip, city not found\n",
      "Processing 11 of Set 4 | Udayagiri\n",
      "Processing 12 of Set 4 | Conceição do Araguaia\n",
      "Processing 13 of Set 4 | Kaitangata\n",
      "Skip, city not found\n",
      "Processing 14 of Set 4 | San Luis\n",
      "Processing 15 of Set 4 | Touros\n",
      "Processing 16 of Set 4 | Amarpur\n",
      "Processing 17 of Set 4 | Ishigaki\n",
      "Processing 18 of Set 4 | Buchanan\n",
      "Processing 19 of Set 4 | Yellowknife\n",
      "Processing 20 of Set 4 | Wanaka\n",
      "Skip, city not found\n",
      "Processing 21 of Set 4 | Upata\n",
      "Processing 22 of Set 4 | Olhão\n",
      "Processing 23 of Set 4 | Humboldt\n",
      "Processing 24 of Set 4 | Hambantota\n",
      "Processing 25 of Set 4 | Severo-Kuril'sk\n",
      "Processing 26 of Set 4 | Esperance\n",
      "Processing 27 of Set 4 | Harper\n",
      "Processing 28 of Set 4 | Irecê\n",
      "Processing 29 of Set 4 | Kahului\n",
      "Processing 30 of Set 4 | Cabo San Lucas\n",
      "Skip, city not found\n",
      "Processing 31 of Set 4 | Marfino\n",
      "Skip, city not found\n",
      "Processing 32 of Set 4 | Dalbandin\n",
      "Processing 33 of Set 4 | Poso\n",
      "Skip, city not found\n",
      "Skip, city not found\n",
      "Processing 34 of Set 4 | Sabang\n",
      "Processing 35 of Set 4 | São Félix do Xingu\n",
      "Processing 36 of Set 4 | Esim\n",
      "Processing 37 of Set 4 | Georgetown\n",
      "Processing 38 of Set 4 | Nagapattinam\n",
      "Processing 39 of Set 4 | Charters Towers\n",
      "Processing 40 of Set 4 | Emba\n",
      "Skip, city not found\n",
      "Processing 41 of Set 4 | Husavik\n",
      "Processing 42 of Set 4 | Sisimiut\n",
      "Processing 43 of Set 4 | Pochutla\n",
      "Processing 44 of Set 4 | Bahía Honda\n",
      "Processing 45 of Set 4 | Saint-Pierre\n",
      "Processing 46 of Set 4 | Ust-Nera\n",
      "Skip, city not found\n",
      "Processing 47 of Set 4 | Bay Roberts\n",
      "Processing 48 of Set 4 | Zhigansk\n",
      "Processing 49 of Set 4 | Szydłowiec\n",
      "Processing 50 of Set 4 | Prado\n",
      "Processing 1 of Set 5 | Laguna\n",
      "Processing 2 of Set 5 | Hualmay\n",
      "Processing 3 of Set 5 | Novo Horizonte\n",
      "Skip, city not found\n",
      "Processing 4 of Set 5 | Padang\n",
      "Processing 5 of Set 5 | Khatanga\n",
      "Processing 6 of Set 5 | Kirakira\n",
      "Processing 7 of Set 5 | Cabedelo\n",
      "Processing 8 of Set 5 | Villa Carlos Paz\n",
      "Processing 9 of Set 5 | Lebu\n",
      "Processing 10 of Set 5 | Road Town\n",
      "Processing 11 of Set 5 | Pilar\n",
      "Processing 12 of Set 5 | Paita\n",
      "Skip, city not found\n",
      "Processing 13 of Set 5 | Torbay\n",
      "Processing 14 of Set 5 | Kushiro\n",
      "Processing 15 of Set 5 | Agüimes\n",
      "Processing 16 of Set 5 | Chui\n",
      "Skip, city not found\n",
      "Processing 17 of Set 5 | Pedersore\n",
      "Processing 18 of Set 5 | Gravdal\n",
      "Skip, city not found\n",
      "Processing 19 of Set 5 | Waipawa\n",
      "Processing 20 of Set 5 | Gbarnga\n",
      "Processing 21 of Set 5 | Honiara\n"
     ]
    },
    {
     "name": "stdout",
     "output_type": "stream",
     "text": [
      "Processing 22 of Set 5 | Hasaki\n",
      "Processing 23 of Set 5 | Cidreira\n",
      "Processing 24 of Set 5 | Ryōtsu-minato\n",
      "Processing 25 of Set 5 | Muzhi\n",
      "Processing 26 of Set 5 | Puerto Escondido\n",
      "Processing 27 of Set 5 | Rio Grande\n",
      "Processing 28 of Set 5 | Hamilton\n",
      "Processing 29 of Set 5 | Acajutla\n",
      "Processing 30 of Set 5 | Gulbene\n",
      "Processing 31 of Set 5 | Alghero\n",
      "Processing 32 of Set 5 | Bonthe\n",
      "Processing 33 of Set 5 | Port-Gentil\n",
      "Processing 34 of Set 5 | Borgarnes\n",
      "Processing 35 of Set 5 | Yerbogachën\n",
      "Processing 36 of Set 5 | Ahtopol\n",
      "Processing 37 of Set 5 | Kargat\n",
      "Processing 38 of Set 5 | Pangkalanbuun\n",
      "Processing 39 of Set 5 | Zhuhai\n",
      "Processing 40 of Set 5 | Aykhal\n",
      "Processing 41 of Set 5 | Fort Smith\n",
      "Processing 42 of Set 5 | Ust-Tsilma\n",
      "Processing 43 of Set 5 | Saint-Chamond\n",
      "Processing 44 of Set 5 | Angoche\n",
      "Processing 45 of Set 5 | Şebinkarahisar\n",
      "Processing 46 of Set 5 | Dikson\n",
      "Processing 47 of Set 5 | Fagernes\n",
      "Processing 48 of Set 5 | Vila Velha\n",
      "Processing 49 of Set 5 | Alta Floresta\n",
      "Skip, city not found\n",
      "Processing 50 of Set 5 | Raudeberg\n",
      "Processing 1 of Set 6 | Ambon City\n",
      "Processing 2 of Set 6 | Atambua\n",
      "Processing 3 of Set 6 | Lamar\n",
      "Processing 4 of Set 6 | Havre-St-Pierre\n",
      "Processing 5 of Set 6 | Alofi\n",
      "Processing 6 of Set 6 | Naraina\n",
      "Processing 7 of Set 6 | Plymouth\n",
      "Processing 8 of Set 6 | Hofn\n",
      "Skip, city not found\n",
      "Processing 9 of Set 6 | Miran Shah\n",
      "Processing 10 of Set 6 | Togur\n",
      "Processing 11 of Set 6 | Palafrugell\n",
      "Processing 12 of Set 6 | Östersund\n",
      "Processing 13 of Set 6 | Kuril'sk\n",
      "Processing 14 of Set 6 | Mungeli\n",
      "Processing 15 of Set 6 | Saldanha\n",
      "Processing 16 of Set 6 | Batagay\n",
      "Processing 17 of Set 6 | Nabire\n",
      "Processing 18 of Set 6 | Ribeira Grande\n",
      "Skip, city not found\n",
      "Processing 19 of Set 6 | La Primavera\n",
      "Processing 20 of Set 6 | Talnakh\n",
      "Processing 21 of Set 6 | Ugoofaaru\n",
      "Processing 22 of Set 6 | Arraial do Cabo\n",
      "Processing 23 of Set 6 | Cap Malheureux\n",
      "Processing 24 of Set 6 | Wajima\n",
      "Skip, city not found\n",
      "Processing 25 of Set 6 | Resistencia\n",
      "Processing 26 of Set 6 | Olafsvik\n",
      "Processing 27 of Set 6 | Ostrovnoy\n",
      "Processing 28 of Set 6 | Saint-Léonard\n",
      "Processing 29 of Set 6 | Guilin\n",
      "Processing 30 of Set 6 | Salo\n",
      "Processing 31 of Set 6 | Linxia Chengguanzhen\n",
      "Processing 32 of Set 6 | Rio Tuba\n",
      "Processing 33 of Set 6 | Tateyama\n",
      "Processing 34 of Set 6 | Goba\n",
      "Processing 35 of Set 6 | Kavaratti\n",
      "Processing 36 of Set 6 | Pevek\n",
      "Skip, city not found\n",
      "Processing 37 of Set 6 | Jieshi\n",
      "Processing 38 of Set 6 | Poya\n",
      "Processing 39 of Set 6 | San Martín\n",
      "Processing 40 of Set 6 | Rafaela\n",
      "Skip, city not found\n",
      "Processing 41 of Set 6 | Loreto\n",
      "Processing 42 of Set 6 | Ballina\n",
      "Processing 43 of Set 6 | Kieta\n",
      "Processing 44 of Set 6 | Fort-Shevchenko\n",
      "Processing 45 of Set 6 | Nālūt\n",
      "Processing 46 of Set 6 | Loukhi\n",
      "Processing 47 of Set 6 | Sørland\n",
      "Processing 48 of Set 6 | Tilichiki\n",
      "Processing 49 of Set 6 | Kholodnyy\n",
      "Processing 50 of Set 6 | Khandyga\n",
      "Processing 1 of Set 7 | Wote\n",
      "Processing 2 of Set 7 | Roald\n",
      "Processing 3 of Set 7 | Mount Gambier\n",
      "Processing 4 of Set 7 | Kruisfontein\n",
      "Processing 5 of Set 7 | Dawlatabad\n",
      "Processing 6 of Set 7 | Muswellbrook\n",
      "Processing 7 of Set 7 | Yakima\n",
      "Processing 8 of Set 7 | Buala\n",
      "Processing 9 of Set 7 | Kirksville\n",
      "Processing 10 of Set 7 | Te Anau\n",
      "Processing 11 of Set 7 | Port Hardy\n",
      "Processing 12 of Set 7 | Pascagoula\n",
      "Processing 13 of Set 7 | Rapid Valley\n",
      "Processing 14 of Set 7 | Boca do Acre\n",
      "Processing 15 of Set 7 | Riyadh\n",
      "Processing 16 of Set 7 | Salalah\n",
      "Processing 17 of Set 7 | Toribío\n",
      "Processing 18 of Set 7 | Diplo\n",
      "Processing 19 of Set 7 | Constitucion\n",
      "Processing 20 of Set 7 | Arrondissement de Libourne\n",
      "Processing 21 of Set 7 | Camaná\n",
      "Processing 22 of Set 7 | Chiredzi\n",
      "Processing 23 of Set 7 | Kharan\n",
      "Processing 24 of Set 7 | Naushki\n",
      "Processing 25 of Set 7 | Hammerfest\n",
      "Processing 26 of Set 7 | Ampanihy\n",
      "Processing 27 of Set 7 | Lokoja\n",
      "Processing 28 of Set 7 | Tikrit\n",
      "Skip, city not found\n",
      "Processing 29 of Set 7 | Manono\n",
      "Processing 30 of Set 7 | Minsk\n",
      "Processing 31 of Set 7 | Evensk\n",
      "Processing 32 of Set 7 | Rawson\n",
      "Processing 33 of Set 7 | Zyryanka\n",
      "Processing 34 of Set 7 | Sfântu Gheorghe\n",
      "Processing 35 of Set 7 | Skibbereen\n",
      "Processing 36 of Set 7 | Bria\n",
      "Skip, city not found\n",
      "Skip, city not found\n",
      "Processing 37 of Set 7 | Misratah\n",
      "Processing 38 of Set 7 | Kiunga\n",
      "Processing 39 of Set 7 | Shahreza\n",
      "Processing 40 of Set 7 | Seymchan\n",
      "Processing 41 of Set 7 | Mana\n",
      "Processing 42 of Set 7 | Isangel\n",
      "Processing 43 of Set 7 | Srednekolymsk\n",
      "Processing 44 of Set 7 | Dronninglund\n",
      "Processing 45 of Set 7 | Nīlēshwar\n",
      "Processing 46 of Set 7 | Leningradskiy\n",
      "Processing 47 of Set 7 | Auki\n",
      "Processing 48 of Set 7 | Lavrentiya\n",
      "Processing 49 of Set 7 | Polunochnoye\n",
      "Processing 50 of Set 7 | Bollnäs\n",
      "Processing 1 of Set 8 | Waingapu\n",
      "Processing 2 of Set 8 | Vardø\n",
      "Processing 3 of Set 8 | Nome\n",
      "Processing 4 of Set 8 | Langham\n",
      "Processing 5 of Set 8 | Cockburn Town\n",
      "Processing 6 of Set 8 | Coquimbo\n",
      "Processing 7 of Set 8 | Mgandu\n",
      "Processing 8 of Set 8 | Half Moon Bay\n",
      "Processing 9 of Set 8 | La Marque\n",
      "Processing 10 of Set 8 | Saint-Joseph\n",
      "Skip, city not found\n",
      "Processing 11 of Set 8 | Gimli\n",
      "Processing 12 of Set 8 | Altukhovo\n",
      "Processing 13 of Set 8 | Kitgum\n",
      "Processing 14 of Set 8 | Birjand\n",
      "Processing 15 of Set 8 | Balkanabat\n",
      "Processing 16 of Set 8 | Najrān\n",
      "Processing 17 of Set 8 | Bandarbeyla\n",
      "Skip, city not found\n",
      "Processing 18 of Set 8 | Alexandria\n",
      "Processing 19 of Set 8 | Awjilah\n",
      "Processing 20 of Set 8 | Flinders\n",
      "Processing 21 of Set 8 | Marathon\n",
      "Processing 22 of Set 8 | Skiathos\n",
      "Processing 23 of Set 8 | Bezhetsk\n",
      "Processing 24 of Set 8 | Puerto Suárez\n",
      "Processing 25 of Set 8 | Fort Nelson\n",
      "Processing 26 of Set 8 | Nacogdoches\n",
      "Processing 27 of Set 8 | Kasongo-Lunda\n",
      "Processing 28 of Set 8 | Rovaniemi\n",
      "Processing 29 of Set 8 | Billings Metropolitan Area\n",
      "Processing 30 of Set 8 | Urengoy\n",
      "Processing 31 of Set 8 | Tiarei\n",
      "Processing 32 of Set 8 | Atasū\n",
      "Processing 33 of Set 8 | Sept-Îles\n",
      "Processing 34 of Set 8 | Vágur\n",
      "Processing 35 of Set 8 | Russell\n",
      "Processing 36 of Set 8 | Miracema do Tocantins\n",
      "Processing 37 of Set 8 | San Cristobal\n",
      "Processing 38 of Set 8 | Arman'\n",
      "Processing 39 of Set 8 | Bubaque\n",
      "Skip, city not found\n",
      "Processing 40 of Set 8 | Orlik\n",
      "Processing 41 of Set 8 | Porteirinha\n",
      "Processing 42 of Set 8 | Enumclaw\n",
      "Processing 43 of Set 8 | Begoro\n",
      "Processing 44 of Set 8 | Florence\n",
      "Processing 45 of Set 8 | Flers\n",
      "Processing 46 of Set 8 | Labuhan\n",
      "Processing 47 of Set 8 | Runcu\n",
      "Processing 48 of Set 8 | Bhag\n",
      "Processing 49 of Set 8 | Sobolevo\n",
      "Processing 50 of Set 8 | Victor Harbor\n",
      "Processing 1 of Set 9 | Chimoio\n",
      "Processing 2 of Set 9 | Melsungen\n",
      "Processing 3 of Set 9 | Marshall\n",
      "Processing 4 of Set 9 | Mossamedes\n",
      "Processing 5 of Set 9 | Katsuura\n",
      "Processing 6 of Set 9 | Vrangel'\n",
      "Processing 7 of Set 9 | Lagoa\n",
      "Processing 8 of Set 9 | Sayyan\n",
      "Processing 9 of Set 9 | Sovetskiy\n",
      "Processing 10 of Set 9 | Beloha\n",
      "Skip, city not found\n",
      "Processing 11 of Set 9 | Norman Wells\n",
      "Processing 12 of Set 9 | Livadiya\n",
      "Processing 13 of Set 9 | Shemonaīkha\n",
      "Processing 14 of Set 9 | Smithers\n",
      "Processing 15 of Set 9 | Jérémie\n",
      "Processing 16 of Set 9 | Huadian\n",
      "Processing 17 of Set 9 | Saint George\n",
      "Processing 18 of Set 9 | Nantucket\n",
      "Processing 19 of Set 9 | Shevchenkove\n",
      "Processing 20 of Set 9 | Pozo Colorado\n",
      "Processing 21 of Set 9 | Ziniaré\n",
      "Processing 22 of Set 9 | Puerto del Rosario\n",
      "Skip, city not found\n",
      "Processing 23 of Set 9 | Kachug\n",
      "Processing 24 of Set 9 | Lockhart\n",
      "Processing 25 of Set 9 | Alice Springs\n",
      "Processing 26 of Set 9 | Baykit\n",
      "Processing 27 of Set 9 | Narsaq\n",
      "Skip, city not found\n",
      "Processing 28 of Set 9 | Médéa\n",
      "Processing 29 of Set 9 | Clyde River\n",
      "Processing 30 of Set 9 | Qiongshan\n",
      "Processing 31 of Set 9 | Kalianget\n",
      "Processing 32 of Set 9 | Kaz\n",
      "Processing 33 of Set 9 | Bilma\n",
      "Processing 34 of Set 9 | Mbandaka\n",
      "Processing 35 of Set 9 | San Patricio\n",
      "Processing 36 of Set 9 | Uray\n",
      "Processing 37 of Set 9 | Aswān\n",
      "Processing 38 of Set 9 | Severo-Yeniseyskiy\n",
      "Skip, city not found\n",
      "Processing 39 of Set 9 | Atar\n",
      "Processing 40 of Set 9 | Mezen'\n",
      "Processing 41 of Set 9 | Santiago\n",
      "Processing 42 of Set 9 | Puerto Nariño\n",
      "Processing 43 of Set 9 | Nkhotakota\n",
      "Processing 44 of Set 9 | Beroroha\n",
      "Processing 45 of Set 9 | Lüderitz\n",
      "Processing 46 of Set 9 | Mwinilunga\n",
      "Processing 47 of Set 9 | Moose Factory\n",
      "Processing 48 of Set 9 | Iqaluit\n",
      "Processing 49 of Set 9 | Tromsø\n",
      "Processing 50 of Set 9 | Amposta\n"
     ]
    },
    {
     "name": "stdout",
     "output_type": "stream",
     "text": [
      "Processing 1 of Set 10 | Omboué\n",
      "Processing 2 of Set 10 | Huicungo\n",
      "Skip, city not found\n",
      "Processing 3 of Set 10 | Kampot\n",
      "Processing 4 of Set 10 | Tegul'det\n",
      "Processing 5 of Set 10 | Pathein\n",
      "Processing 6 of Set 10 | ‘Āhuimanu\n",
      "Processing 7 of Set 10 | Konde\n",
      "Processing 8 of Set 10 | Hirara\n",
      "Processing 9 of Set 10 | Santa Rosa\n",
      "Processing 10 of Set 10 | Keighley\n",
      "Skip, city not found\n",
      "Processing 11 of Set 10 | Bāndarban\n",
      "Processing 12 of Set 10 | Portoferraio\n",
      "Processing 13 of Set 10 | Manaus\n",
      "Processing 14 of Set 10 | Natal\n",
      "Processing 15 of Set 10 | Nortelândia\n",
      "Processing 16 of Set 10 | Binga\n",
      "Processing 17 of Set 10 | Egvekinot\n",
      "Processing 18 of Set 10 | Huangmei\n",
      "Processing 19 of Set 10 | Hay River\n",
      "Processing 20 of Set 10 | Krasnosel'kup\n",
      "Processing 21 of Set 10 | Kaffrine\n",
      "Processing 22 of Set 10 | Kununurra\n",
      "Processing 23 of Set 10 | San Francisco\n",
      "Processing 24 of Set 10 | Leamington\n",
      "Skip, city not found\n",
      "Skip, city not found\n",
      "Processing 25 of Set 10 | Maniitsoq\n",
      "Processing 26 of Set 10 | Svarstad\n",
      "Processing 27 of Set 10 | Socorro\n",
      "Processing 28 of Set 10 | Tanout\n",
      "Processing 29 of Set 10 | Verkhoyansk\n",
      "Skip, city not found\n",
      "Processing 30 of Set 10 | Viedma\n",
      "Processing 31 of Set 10 | North Bend\n",
      "Processing 32 of Set 10 | Hikone\n",
      "Skip, city not found\n",
      "Processing 33 of Set 10 | Morondava\n",
      "Processing 34 of Set 10 | Quang Ngai\n",
      "Processing 35 of Set 10 | Magaramkent\n",
      "Processing 36 of Set 10 | The Valley\n",
      "Processing 37 of Set 10 | Saint-Augustin\n",
      "Processing 38 of Set 10 | Prince Rupert\n",
      "Processing 39 of Set 10 | At-Bashi\n",
      "Processing 40 of Set 10 | San Rafael\n",
      "Processing 41 of Set 10 | Boende\n",
      "Processing 42 of Set 10 | Coruripe\n",
      "Processing 43 of Set 10 | Novo Aripuanã\n",
      "Processing 44 of Set 10 | Villaviciosa\n",
      "Processing 45 of Set 10 | Emerald\n",
      "Processing 46 of Set 10 | Pringsewu\n",
      "Processing 47 of Set 10 | Kloulklubed\n",
      "Processing 48 of Set 10 | Fare\n",
      "Processing 49 of Set 10 | Norfolk\n",
      "Processing 50 of Set 10 | Lancaster\n",
      "Processing 1 of Set 11 | Oktyabr'skiy\n",
      "Processing 2 of Set 11 | San Quintín\n",
      "Skip, city not found\n",
      "Processing 3 of Set 11 | Colares\n",
      "Processing 4 of Set 11 | Maple Creek\n",
      "Processing 5 of Set 11 | Mweka\n",
      "Processing 6 of Set 11 | Qasigiannguit\n",
      "Processing 7 of Set 11 | Turbat\n",
      "Processing 8 of Set 11 | Aseri\n",
      "Processing 9 of Set 11 | Santa Maria\n",
      "Processing 10 of Set 11 | São José do Calçado\n",
      "Processing 11 of Set 11 | Tete\n",
      "Processing 12 of Set 11 | Bonfim\n",
      "Processing 13 of Set 11 | Felanitx\n",
      "Processing 14 of Set 11 | Chāmpua\n",
      "Processing 15 of Set 11 | Santa Elena\n",
      "Processing 16 of Set 11 | Fairbanks\n",
      "Processing 17 of Set 11 | Mataram\n",
      "Processing 18 of Set 11 | Banjar\n",
      "Processing 19 of Set 11 | Yantal'\n",
      "Processing 20 of Set 11 | Tarn Taran\n",
      "Processing 21 of Set 11 | Sal Rei\n",
      "Processing 22 of Set 11 | Robertson\n",
      "Processing 23 of Set 11 | Salekhard\n",
      "Processing 24 of Set 11 | Giaveno\n",
      "Processing 25 of Set 11 | Matlock\n",
      "Processing 26 of Set 11 | Atbasar\n",
      "Processing 27 of Set 11 | Porto Murtinho\n",
      "Processing 28 of Set 11 | Pedernales\n",
      "Processing 29 of Set 11 | Caravelas\n",
      "Processing 30 of Set 11 | Chicama\n",
      "Processing 31 of Set 11 | Haines Junction\n",
      "Processing 32 of Set 11 | Aizkraukle\n",
      "Processing 33 of Set 11 | Oistins\n",
      "Processing 34 of Set 11 | Berlevåg\n",
      "Processing 35 of Set 11 | Omsukchan\n",
      "Processing 36 of Set 11 | Belaya Gora\n",
      "Processing 37 of Set 11 | North Platte\n",
      "Processing 38 of Set 11 | Soyo\n",
      "Processing 39 of Set 11 | Den Helder\n",
      "Processing 40 of Set 11 | Koronowo\n",
      "Processing 41 of Set 11 | Safi\n",
      "Processing 42 of Set 11 | Xining\n",
      "Processing 43 of Set 11 | Gōtsuchō\n",
      "Processing 44 of Set 11 | Banda Aceh\n",
      "Processing 45 of Set 11 | Palauig\n",
      "Processing 46 of Set 11 | Iwaki\n",
      "Processing 47 of Set 11 | Xudat\n",
      "Processing 48 of Set 11 | Muros\n",
      "Processing 49 of Set 11 | Verkhnyaya Inta\n",
      "Processing 50 of Set 11 | Safaga\n",
      "Processing 1 of Set 12 | Australind\n",
      "Processing 2 of Set 12 | Makakilo City\n",
      "Skip, city not found\n",
      "Processing 3 of Set 12 | Solnechnyy\n",
      "Processing 4 of Set 12 | Presidente Epitácio\n",
      "Processing 5 of Set 12 | Mount Isa\n",
      "Processing 6 of Set 12 | Mayya\n",
      "Processing 7 of Set 12 | Vao\n",
      "Processing 8 of Set 12 | Palatka\n",
      "Processing 9 of Set 12 | Swellendam\n",
      "Processing 10 of Set 12 | Impfondo\n",
      "Processing 11 of Set 12 | Arrondissement de Troyes\n",
      "Processing 12 of Set 12 | San Juan\n",
      "Processing 13 of Set 12 | Nsanje\n",
      "Processing 14 of Set 12 | Porto Santo\n",
      "Processing 15 of Set 12 | Kalmunai\n",
      "Processing 16 of Set 12 | Pacifica\n",
      "Processing 17 of Set 12 | Abhā\n",
      "Processing 18 of Set 12 | Along\n",
      "Processing 19 of Set 12 | Baruun-Urt\n",
      "Processing 20 of Set 12 | Tauá\n",
      "Processing 21 of Set 12 | Vostok\n",
      "Processing 22 of Set 12 | Mnogovershinnyy\n",
      "Processing 23 of Set 12 | San José\n",
      "Processing 24 of Set 12 | Tuatapere\n",
      "Processing 25 of Set 12 | Richards Bay\n",
      "Processing 26 of Set 12 | Chokwé\n",
      "Processing 27 of Set 12 | Gurun\n",
      "Processing 28 of Set 12 | Saint-François\n",
      "Processing 29 of Set 12 | Mahina\n",
      "Processing 30 of Set 12 | Khudumelapye\n",
      "Processing 31 of Set 12 | Berdigestyakh\n",
      "Processing 32 of Set 12 | Grindavik\n",
      "Processing 33 of Set 12 | Miles City\n",
      "Processing 34 of Set 12 | Sangar\n",
      "Processing 35 of Set 12 | Roma\n",
      "Processing 36 of Set 12 | Thunder Bay\n",
      "Processing 37 of Set 12 | Belyy Yar\n",
      "Processing 38 of Set 12 | Portland\n",
      "\n",
      "-----------------------------\n",
      "Data Retrival Complete\n",
      "-----------------------------\n"
     ]
    }
   ],
   "source": [
    "# set variables for response, create set to handle API limits\n",
    "response_num = 1\n",
    "response_set = 1\n",
    "\n",
    "#Base url to make the api call\n",
    "base_url = 'http://api.openweathermap.org/data/2.5/weather?units=imperial&q='\n",
    "\n",
    "#print statement to let user know the api call has been initiated.\n",
    "print('''\n",
    "-----------------------------\n",
    "Starting Data Retrieval\n",
    "-----------------------------''')\n",
    "#itterate through DataFrame to make API calls \n",
    "for index, row in city_weather.iterrows(): \n",
    "    #Create API call\n",
    "    response = requests.get(base_url + row['City'] + ',' + row['Country'] + '&APPID=' + api_key).json()\n",
    "    \n",
    "    #Exception script in case the city is not found by the API call\n",
    "    try: \n",
    "        #print statement to let user know which record is being processed.\n",
    "        print(f'Processing {response_num} of Set {response_set} | {response[\"name\"]}')\n",
    "        \n",
    "        #Input data into the dataframe\n",
    "        weather_df.loc[index, 'Lat'] = response['coord']['lat']\n",
    "        weather_df.loc[index, 'Lng'] = response['coord']['lon'] \n",
    "        weather_df.loc[index, 'Current Temp (\\u00b0F)'] = response['main']['temp']\n",
    "        weather_df.loc[index, 'Min Temp (\\u00b0F)'] = response['main']['temp_min']\n",
    "        weather_df.loc[index, 'Max Temp (\\u00b0F)'] = response['main']['temp_max']\n",
    "        weather_df.loc[index, 'Humidity (%)'] = response['main']['humidity']\n",
    "        weather_df.loc[index, 'Cloudiness (%)'] = response['clouds']['all']\n",
    "        weather_df.loc[index, 'Wind Speed (mph)'] = response['wind']['speed']\n",
    "        weather_df.loc[index, 'Date (unix)'] = response['dt']\n",
    "        \n",
    "        #Increase the record count\n",
    "        response_num += 1\n",
    "        \n",
    "    except (KeyError, IndexError):\n",
    "        print(\"Skip, city not found\")\n",
    "    \n",
    "    #API call limit control\n",
    "    if response_num == 51:\n",
    "        response_set += 1\n",
    "        response_num = 1\n",
    "        time.sleep(15)\n",
    "#print statement to let user know query has ended        \n",
    "print('''\n",
    "-----------------------------\n",
    "Data Retrival Complete\n",
    "-----------------------------''') "
   ]
  },
  {
   "cell_type": "markdown",
   "metadata": {},
   "source": [
    "### Clean & convert DataFrame to csv & display preview of DataFrame\n",
    "* Clean DataFrame for cities that were not found.\n",
    "* Export the DataFrame into a .csv.\n",
    "* Display preview of  DataFrame"
   ]
  },
  {
   "cell_type": "code",
   "execution_count": 156,
   "metadata": {},
   "outputs": [
    {
     "data": {
      "text/html": [
       "<div>\n",
       "<style scoped>\n",
       "    .dataframe tbody tr th:only-of-type {\n",
       "        vertical-align: middle;\n",
       "    }\n",
       "\n",
       "    .dataframe tbody tr th {\n",
       "        vertical-align: top;\n",
       "    }\n",
       "\n",
       "    .dataframe thead th {\n",
       "        text-align: right;\n",
       "    }\n",
       "</style>\n",
       "<table border=\"1\" class=\"dataframe\">\n",
       "  <thead>\n",
       "    <tr style=\"text-align: right;\">\n",
       "      <th></th>\n",
       "      <th>City</th>\n",
       "      <th>Country</th>\n",
       "      <th>Lat</th>\n",
       "      <th>Lng</th>\n",
       "      <th>Current Temp (°F)</th>\n",
       "      <th>Min Temp (°F)</th>\n",
       "      <th>Max Temp (°F)</th>\n",
       "      <th>Humidity (%)</th>\n",
       "      <th>Cloudiness (%)</th>\n",
       "      <th>Wind Speed (mph)</th>\n",
       "      <th>Date (unix)</th>\n",
       "    </tr>\n",
       "  </thead>\n",
       "  <tbody>\n",
       "    <tr>\n",
       "      <th>0</th>\n",
       "      <td>longyearbyen</td>\n",
       "      <td>SJ</td>\n",
       "      <td>34.81</td>\n",
       "      <td>-106.73</td>\n",
       "      <td>83.59</td>\n",
       "      <td>82.4</td>\n",
       "      <td>84.2</td>\n",
       "      <td>11</td>\n",
       "      <td>1</td>\n",
       "      <td>8.05</td>\n",
       "      <td>1588029763</td>\n",
       "    </tr>\n",
       "    <tr>\n",
       "      <th>1</th>\n",
       "      <td>sola</td>\n",
       "      <td>VU</td>\n",
       "      <td>-21.21</td>\n",
       "      <td>-159.78</td>\n",
       "      <td>82.4</td>\n",
       "      <td>82.4</td>\n",
       "      <td>82.4</td>\n",
       "      <td>78</td>\n",
       "      <td>98</td>\n",
       "      <td>3.36</td>\n",
       "      <td>1588029764</td>\n",
       "    </tr>\n",
       "    <tr>\n",
       "      <th>2</th>\n",
       "      <td>mataura</td>\n",
       "      <td>PF</td>\n",
       "      <td>25.93</td>\n",
       "      <td>-105.37</td>\n",
       "      <td>87.73</td>\n",
       "      <td>87.73</td>\n",
       "      <td>87.73</td>\n",
       "      <td>9</td>\n",
       "      <td>40</td>\n",
       "      <td>12.84</td>\n",
       "      <td>1588029764</td>\n",
       "    </tr>\n",
       "    <tr>\n",
       "      <th>3</th>\n",
       "      <td>pochutla</td>\n",
       "      <td>MX</td>\n",
       "      <td>-34.42</td>\n",
       "      <td>19.23</td>\n",
       "      <td>60.04</td>\n",
       "      <td>60.04</td>\n",
       "      <td>60.04</td>\n",
       "      <td>77</td>\n",
       "      <td>42</td>\n",
       "      <td>17.58</td>\n",
       "      <td>1588029764</td>\n",
       "    </tr>\n",
       "    <tr>\n",
       "      <th>4</th>\n",
       "      <td>hambantota</td>\n",
       "      <td>LK</td>\n",
       "      <td>9.97</td>\n",
       "      <td>98.63</td>\n",
       "      <td>78.8</td>\n",
       "      <td>78.8</td>\n",
       "      <td>78.8</td>\n",
       "      <td>88</td>\n",
       "      <td>75</td>\n",
       "      <td>1.12</td>\n",
       "      <td>1588029764</td>\n",
       "    </tr>\n",
       "  </tbody>\n",
       "</table>\n",
       "</div>"
      ],
      "text/plain": [
       "           City Country    Lat     Lng Current Temp (°F) Min Temp (°F)  \\\n",
       "0  longyearbyen      SJ  34.81 -106.73             83.59          82.4   \n",
       "1          sola      VU -21.21 -159.78              82.4          82.4   \n",
       "2       mataura      PF  25.93 -105.37             87.73         87.73   \n",
       "3      pochutla      MX -34.42   19.23             60.04         60.04   \n",
       "4    hambantota      LK   9.97   98.63              78.8          78.8   \n",
       "\n",
       "  Max Temp (°F) Humidity (%) Cloudiness (%) Wind Speed (mph) Date (unix)  \n",
       "0          84.2           11              1             8.05  1588029763  \n",
       "1          82.4           78             98             3.36  1588029764  \n",
       "2         87.73            9             40            12.84  1588029764  \n",
       "3         60.04           77             42            17.58  1588029764  \n",
       "4          78.8           88             75             1.12  1588029764  "
      ]
     },
     "execution_count": 156,
     "metadata": {},
     "output_type": "execute_result"
    }
   ],
   "source": [
    "#Remove cities that were not found\n",
    "weather_df['Lat'] = weather_df['Lat'].replace(' ', np.nan)\n",
    "weather_df_clean = weather_df.dropna()\n",
    "\n",
    "#Save dataframe\n",
    "weather_df_clean.to_csv(\"../output_data/cities.csv\", index=False, header=True)\n",
    "\n",
    "#Preview the dataframe\n",
    "weather_df_clean.head()"
   ]
  },
  {
   "cell_type": "markdown",
   "metadata": {},
   "source": [
    "## Inspect the data and remove the cities where the humidity > 100%.\n",
    "----\n",
    "Skip this step if there are no cities that have humidity > 100%. "
   ]
  },
  {
   "cell_type": "code",
   "execution_count": 143,
   "metadata": {},
   "outputs": [
    {
     "data": {
      "text/plain": [
       "100"
      ]
     },
     "execution_count": 143,
     "metadata": {},
     "output_type": "execute_result"
    }
   ],
   "source": [
    "#check to see if max value of Humidity (%) is above 100 to determine if furthur action is needed.\n",
    "weather_df_clean['Humidity (%)'].max()"
   ]
  },
  {
   "cell_type": "code",
   "execution_count": 144,
   "metadata": {},
   "outputs": [],
   "source": [
    "#  Get the indices of cities that have humidity over 100%.\n"
   ]
  },
  {
   "cell_type": "code",
   "execution_count": 145,
   "metadata": {},
   "outputs": [],
   "source": [
    "# Make a new DataFrame equal to the city data to drop all humidity outliers by index.\n",
    "# Passing \"inplace=False\" will make a copy of the city_data DataFrame, which we call \"clean_city_data\".\n"
   ]
  },
  {
   "cell_type": "code",
   "execution_count": 146,
   "metadata": {},
   "outputs": [],
   "source": [
    "# Extract relevant fields from the data frame\n",
    "\n",
    "\n",
    "# Export the City_Data into a csv\n"
   ]
  },
  {
   "cell_type": "markdown",
   "metadata": {},
   "source": [
    "## Plotting the Data\n",
    "* Use proper labeling of the plots using plot titles (including date of analysis) and axes labels.\n",
    "* Save the plotted figures as .pngs."
   ]
  },
  {
   "cell_type": "markdown",
   "metadata": {},
   "source": [
    "## Latitude vs. Temperature Plot"
   ]
  },
  {
   "cell_type": "code",
   "execution_count": 147,
   "metadata": {
    "scrolled": true
   },
   "outputs": [
    {
     "data": {
      "image/png": "[encoded data removed]",
      "text/plain": [
       "<Figure size 432x288 with 1 Axes>"
      ]
     },
     "metadata": {
      "needs_background": "light"
     },
     "output_type": "display_data"
    },
    {
     "data": {
      "image/png": "[encoded data removed]",
      "text/plain": [
       "<Figure size 432x288 with 1 Axes>"
      ]
     },
     "metadata": {
      "needs_background": "light"
     },
     "output_type": "display_data"
    },
    {
     "data": {
      "image/png": "[encoded data removed]",
      "text/plain": [
       "<Figure size 432x288 with 1 Axes>"
      ]
     },
     "metadata": {
      "needs_background": "light"
     },
     "output_type": "display_data"
    }
   ],
   "source": [
    "current_temp = weather_df_clean.plot(kind='scatter', x='Lat', y='Current Temp (°F)', color='g').grid()   \n",
    "min_temp = weather_df_clean.plot(kind='scatter', x='Lat', y='Min Temp (°F)', color='b').grid() \n",
    "max_temp = weather_df_clean.plot(kind='scatter', x='Lat', y='Max Temp (°F)', color='r').grid()"
   ]
  },
  {
   "cell_type": "markdown",
   "metadata": {},
   "source": [
    "## Latitude vs. Humidity Plot"
   ]
  },
  {
   "cell_type": "code",
   "execution_count": 148,
   "metadata": {},
   "outputs": [
    {
     "data": {
      "image/png": "[encoded data removed]",
      "text/plain": [
       "<Figure size 432x288 with 1 Axes>"
      ]
     },
     "metadata": {
      "needs_background": "light"
     },
     "output_type": "display_data"
    }
   ],
   "source": [
    "humidity = weather_df_clean.plot(kind='scatter', x='Lat', y='Humidity (%)', color='#0099ff').grid()"
   ]
  },
  {
   "cell_type": "markdown",
   "metadata": {},
   "source": [
    "## Latitude vs. Cloudiness Plot"
   ]
  },
  {
   "cell_type": "code",
   "execution_count": 149,
   "metadata": {},
   "outputs": [
    {
     "data": {
      "image/png": "[encoded data removed]",
      "text/plain": [
       "<Figure size 432x288 with 1 Axes>"
      ]
     },
     "metadata": {
      "needs_background": "light"
     },
     "output_type": "display_data"
    }
   ],
   "source": [
    "cloudiness = weather_df_clean.plot(kind='scatter', x='Lat', y='Cloudiness (%)', color='#666666').grid()"
   ]
  },
  {
   "cell_type": "markdown",
   "metadata": {},
   "source": [
    "## Latitude vs. Wind Speed Plot"
   ]
  },
  {
   "cell_type": "code",
   "execution_count": 150,
   "metadata": {},
   "outputs": [
    {
     "data": {
      "image/png": "[encoded data removed]",
      "text/plain": [
       "<Figure size 432x288 with 1 Axes>"
      ]
     },
     "metadata": {
      "needs_background": "light"
     },
     "output_type": "display_data"
    }
   ],
   "source": [
    "wind_speed = weather_df_clean.plot(kind='scatter', x='Lat', y='Wind Speed (mph)', color='#660066').grid()"
   ]
  },
  {
   "cell_type": "markdown",
   "metadata": {},
   "source": [
    "## Linear Regression"
   ]
  },
  {
   "cell_type": "code",
   "execution_count": 151,
   "metadata": {
    "scrolled": true
   },
   "outputs": [
    {
     "data": {
      "text/html": [
       "<div>\n",
       "<style scoped>\n",
       "    .dataframe tbody tr th:only-of-type {\n",
       "        vertical-align: middle;\n",
       "    }\n",
       "\n",
       "    .dataframe tbody tr th {\n",
       "        vertical-align: top;\n",
       "    }\n",
       "\n",
       "    .dataframe thead th {\n",
       "        text-align: right;\n",
       "    }\n",
       "</style>\n",
       "<table border=\"1\" class=\"dataframe\">\n",
       "  <thead>\n",
       "    <tr style=\"text-align: right;\">\n",
       "      <th></th>\n",
       "      <th>index</th>\n",
       "      <th>City</th>\n",
       "      <th>Country</th>\n",
       "      <th>Lat</th>\n",
       "      <th>Lng</th>\n",
       "      <th>Current Temp (°F)</th>\n",
       "      <th>Min Temp (°F)</th>\n",
       "      <th>Max Temp (°F)</th>\n",
       "      <th>Humidity (%)</th>\n",
       "      <th>Cloudiness (%)</th>\n",
       "      <th>Wind Speed (mph)</th>\n",
       "      <th>Date (unix)</th>\n",
       "    </tr>\n",
       "  </thead>\n",
       "  <tbody>\n",
       "    <tr>\n",
       "      <th>0</th>\n",
       "      <td>1</td>\n",
       "      <td>sola</td>\n",
       "      <td>VU</td>\n",
       "      <td>-21.21</td>\n",
       "      <td>-159.78</td>\n",
       "      <td>82.4</td>\n",
       "      <td>82.4</td>\n",
       "      <td>82.4</td>\n",
       "      <td>78</td>\n",
       "      <td>98</td>\n",
       "      <td>3.36</td>\n",
       "      <td>1588029764</td>\n",
       "    </tr>\n",
       "    <tr>\n",
       "      <th>1</th>\n",
       "      <td>3</td>\n",
       "      <td>pochutla</td>\n",
       "      <td>MX</td>\n",
       "      <td>-34.42</td>\n",
       "      <td>19.23</td>\n",
       "      <td>60.04</td>\n",
       "      <td>60.04</td>\n",
       "      <td>60.04</td>\n",
       "      <td>77</td>\n",
       "      <td>42</td>\n",
       "      <td>17.58</td>\n",
       "      <td>1588029764</td>\n",
       "    </tr>\n",
       "    <tr>\n",
       "      <th>2</th>\n",
       "      <td>5</td>\n",
       "      <td>atuona</td>\n",
       "      <td>PF</td>\n",
       "      <td>-21.36</td>\n",
       "      <td>55.77</td>\n",
       "      <td>70</td>\n",
       "      <td>64.99</td>\n",
       "      <td>73.4</td>\n",
       "      <td>78</td>\n",
       "      <td>90</td>\n",
       "      <td>8.05</td>\n",
       "      <td>1588029764</td>\n",
       "    </tr>\n",
       "    <tr>\n",
       "      <th>3</th>\n",
       "      <td>6</td>\n",
       "      <td>hoa binh</td>\n",
       "      <td>VN</td>\n",
       "      <td>-42.88</td>\n",
       "      <td>147.33</td>\n",
       "      <td>57.97</td>\n",
       "      <td>55.4</td>\n",
       "      <td>59</td>\n",
       "      <td>66</td>\n",
       "      <td>75</td>\n",
       "      <td>8.05</td>\n",
       "      <td>1588029765</td>\n",
       "    </tr>\n",
       "    <tr>\n",
       "      <th>4</th>\n",
       "      <td>7</td>\n",
       "      <td>busselton</td>\n",
       "      <td>AU</td>\n",
       "      <td>-17.97</td>\n",
       "      <td>122.23</td>\n",
       "      <td>84.2</td>\n",
       "      <td>84.2</td>\n",
       "      <td>84.2</td>\n",
       "      <td>83</td>\n",
       "      <td>20</td>\n",
       "      <td>5.82</td>\n",
       "      <td>1588029765</td>\n",
       "    </tr>\n",
       "    <tr>\n",
       "      <th>...</th>\n",
       "      <td>...</td>\n",
       "      <td>...</td>\n",
       "      <td>...</td>\n",
       "      <td>...</td>\n",
       "      <td>...</td>\n",
       "      <td>...</td>\n",
       "      <td>...</td>\n",
       "      <td>...</td>\n",
       "      <td>...</td>\n",
       "      <td>...</td>\n",
       "      <td>...</td>\n",
       "      <td>...</td>\n",
       "    </tr>\n",
       "    <tr>\n",
       "      <th>181</th>\n",
       "      <td>588</td>\n",
       "      <td>dien bien</td>\n",
       "      <td>VN</td>\n",
       "      <td>-6.13</td>\n",
       "      <td>12.37</td>\n",
       "      <td>79.83</td>\n",
       "      <td>79.83</td>\n",
       "      <td>79.83</td>\n",
       "      <td>86</td>\n",
       "      <td>61</td>\n",
       "      <td>9.42</td>\n",
       "      <td>1588030056</td>\n",
       "    </tr>\n",
       "    <tr>\n",
       "      <th>182</th>\n",
       "      <td>601</td>\n",
       "      <td>ribeira brava</td>\n",
       "      <td>PT</td>\n",
       "      <td>-33.27</td>\n",
       "      <td>115.72</td>\n",
       "      <td>54</td>\n",
       "      <td>54</td>\n",
       "      <td>54</td>\n",
       "      <td>70</td>\n",
       "      <td>25</td>\n",
       "      <td>9.04</td>\n",
       "      <td>1588030075</td>\n",
       "    </tr>\n",
       "    <tr>\n",
       "      <th>183</th>\n",
       "      <td>605</td>\n",
       "      <td>carutapera</td>\n",
       "      <td>BR</td>\n",
       "      <td>-21.76</td>\n",
       "      <td>-52.12</td>\n",
       "      <td>70.48</td>\n",
       "      <td>70.48</td>\n",
       "      <td>70.48</td>\n",
       "      <td>65</td>\n",
       "      <td>0</td>\n",
       "      <td>7.87</td>\n",
       "      <td>1588029962</td>\n",
       "    </tr>\n",
       "    <tr>\n",
       "      <th>184</th>\n",
       "      <td>606</td>\n",
       "      <td>moron</td>\n",
       "      <td>MN</td>\n",
       "      <td>-20.73</td>\n",
       "      <td>139.5</td>\n",
       "      <td>78.8</td>\n",
       "      <td>78.8</td>\n",
       "      <td>78.8</td>\n",
       "      <td>36</td>\n",
       "      <td>0</td>\n",
       "      <td>12.75</td>\n",
       "      <td>1588030076</td>\n",
       "    </tr>\n",
       "    <tr>\n",
       "      <th>185</th>\n",
       "      <td>608</td>\n",
       "      <td>tiruvottiyur</td>\n",
       "      <td>IN</td>\n",
       "      <td>-22.67</td>\n",
       "      <td>167.48</td>\n",
       "      <td>75.13</td>\n",
       "      <td>75.13</td>\n",
       "      <td>75.13</td>\n",
       "      <td>76</td>\n",
       "      <td>14</td>\n",
       "      <td>26.04</td>\n",
       "      <td>1588030077</td>\n",
       "    </tr>\n",
       "  </tbody>\n",
       "</table>\n",
       "<p>186 rows × 12 columns</p>\n",
       "</div>"
      ],
      "text/plain": [
       "     index           City Country    Lat     Lng Current Temp (°F)  \\\n",
       "0        1           sola      VU -21.21 -159.78              82.4   \n",
       "1        3       pochutla      MX -34.42   19.23             60.04   \n",
       "2        5         atuona      PF -21.36   55.77                70   \n",
       "3        6       hoa binh      VN -42.88  147.33             57.97   \n",
       "4        7      busselton      AU -17.97  122.23              84.2   \n",
       "..     ...            ...     ...    ...     ...               ...   \n",
       "181    588      dien bien      VN  -6.13   12.37             79.83   \n",
       "182    601  ribeira brava      PT -33.27  115.72                54   \n",
       "183    605     carutapera      BR -21.76  -52.12             70.48   \n",
       "184    606          moron      MN -20.73   139.5              78.8   \n",
       "185    608   tiruvottiyur      IN -22.67  167.48             75.13   \n",
       "\n",
       "    Min Temp (°F) Max Temp (°F) Humidity (%) Cloudiness (%) Wind Speed (mph)  \\\n",
       "0            82.4          82.4           78             98             3.36   \n",
       "1           60.04         60.04           77             42            17.58   \n",
       "2           64.99          73.4           78             90             8.05   \n",
       "3            55.4            59           66             75             8.05   \n",
       "4            84.2          84.2           83             20             5.82   \n",
       "..            ...           ...          ...            ...              ...   \n",
       "181         79.83         79.83           86             61             9.42   \n",
       "182            54            54           70             25             9.04   \n",
       "183         70.48         70.48           65              0             7.87   \n",
       "184          78.8          78.8           36              0            12.75   \n",
       "185         75.13         75.13           76             14            26.04   \n",
       "\n",
       "    Date (unix)  \n",
       "0    1588029764  \n",
       "1    1588029764  \n",
       "2    1588029764  \n",
       "3    1588029765  \n",
       "4    1588029765  \n",
       "..          ...  \n",
       "181  1588030056  \n",
       "182  1588030075  \n",
       "183  1588029962  \n",
       "184  1588030076  \n",
       "185  1588030077  \n",
       "\n",
       "[186 rows x 12 columns]"
      ]
     },
     "execution_count": 151,
     "metadata": {},
     "output_type": "execute_result"
    }
   ],
   "source": [
    "# Create Northern and Southern Hemisphere DataFrames, reset index\n",
    "nothern_hemisphere = weather_df_clean.loc[weather_df_clean['Lat'] >= 0.0]\n",
    "nothern_hemisphere.reset_index()\n",
    "\n",
    "southern_hemisphere = weather_df_clean.loc[weather_df_clean['Lat'] < 0.0]\n",
    "southern_hemisphere.reset_index()\n"
   ]
  },
  {
   "cell_type": "code",
   "execution_count": 152,
   "metadata": {},
   "outputs": [],
   "source": [
    "#function to calculate linear regression, plot, and save figure\n",
    "def plotLinRegress(x_value, y_value, x_label, y_label, ifig):\n",
    "    (slope, intercept, rvalue, pvalue, stderr) = linregress(x_value, y_value)\n",
    "    print(f\"The r-squared is: {rvalue}\")\n",
    "    regress_values = x_value * slope + intercept\n",
    "    line_eq = \"y = \" + str(round(slope,2)) + \"x + \" + str(round(intercept,2))\n",
    "\n",
    "    plt.scatter(x_value, y_value)\n",
    "    plt.plot(x_value, regress_values, \"r-\")\n",
    "    plt.annotate(line_eq, lblpos=0, fontsize=15, color=\"red\")\n",
    "    plt.xlabel(xlabel)\n",
    "    plt.ylabel(ylabel)\n",
    "    plt.savefig(f\"output_data/fig{ifig}.png\")\n",
    "    plt.show()"
   ]
  },
  {
   "cell_type": "markdown",
   "metadata": {},
   "source": [
    "####  Northern Hemisphere - Max Temp vs. Latitude Linear Regression"
   ]
  },
  {
   "cell_type": "code",
   "execution_count": 153,
   "metadata": {},
   "outputs": [
    {
     "ename": "AttributeError",
     "evalue": "'float' object has no attribute 'shape'",
     "output_type": "error",
     "traceback": [
      "\u001b[0;31m---------------------------------------------------------------------------\u001b[0m",
      "\u001b[0;31mAttributeError\u001b[0m                            Traceback (most recent call last)",
      "\u001b[0;32m<ipython-input-153-55b34626eb32>\u001b[0m in \u001b[0;36m<module>\u001b[0;34m\u001b[0m\n\u001b[1;32m      3\u001b[0m \u001b[0mx_label\u001b[0m \u001b[0;34m=\u001b[0m \u001b[0;34m'Lat'\u001b[0m\u001b[0;34m\u001b[0m\u001b[0;34m\u001b[0m\u001b[0m\n\u001b[1;32m      4\u001b[0m \u001b[0my_label\u001b[0m \u001b[0;34m=\u001b[0m \u001b[0;34m'Max Temp (\\u00b0F)'\u001b[0m\u001b[0;34m\u001b[0m\u001b[0;34m\u001b[0m\u001b[0m\n\u001b[0;32m----> 5\u001b[0;31m \u001b[0mplotLinRegress\u001b[0m\u001b[0;34m(\u001b[0m\u001b[0mx_value\u001b[0m\u001b[0;34m,\u001b[0m\u001b[0my_value\u001b[0m\u001b[0;34m,\u001b[0m\u001b[0mx_label\u001b[0m\u001b[0;34m,\u001b[0m\u001b[0my_label\u001b[0m\u001b[0;34m,\u001b[0m\u001b[0;36m5\u001b[0m\u001b[0;34m)\u001b[0m\u001b[0;34m\u001b[0m\u001b[0;34m\u001b[0m\u001b[0m\n\u001b[0m",
      "\u001b[0;32m<ipython-input-152-57cd502ca211>\u001b[0m in \u001b[0;36mplotLinRegress\u001b[0;34m(x_value, y_value, x_label, y_label, ifig)\u001b[0m\n\u001b[1;32m      1\u001b[0m \u001b[0;31m#function to calculate linear regression, plot, and save figure\u001b[0m\u001b[0;34m\u001b[0m\u001b[0;34m\u001b[0m\u001b[0;34m\u001b[0m\u001b[0m\n\u001b[1;32m      2\u001b[0m \u001b[0;32mdef\u001b[0m \u001b[0mplotLinRegress\u001b[0m\u001b[0;34m(\u001b[0m\u001b[0mx_value\u001b[0m\u001b[0;34m,\u001b[0m \u001b[0my_value\u001b[0m\u001b[0;34m,\u001b[0m \u001b[0mx_label\u001b[0m\u001b[0;34m,\u001b[0m \u001b[0my_label\u001b[0m\u001b[0;34m,\u001b[0m \u001b[0mifig\u001b[0m\u001b[0;34m)\u001b[0m\u001b[0;34m:\u001b[0m\u001b[0;34m\u001b[0m\u001b[0;34m\u001b[0m\u001b[0m\n\u001b[0;32m----> 3\u001b[0;31m     \u001b[0;34m(\u001b[0m\u001b[0mslope\u001b[0m\u001b[0;34m,\u001b[0m \u001b[0mintercept\u001b[0m\u001b[0;34m,\u001b[0m \u001b[0mrvalue\u001b[0m\u001b[0;34m,\u001b[0m \u001b[0mpvalue\u001b[0m\u001b[0;34m,\u001b[0m \u001b[0mstderr\u001b[0m\u001b[0;34m)\u001b[0m \u001b[0;34m=\u001b[0m \u001b[0mlinregress\u001b[0m\u001b[0;34m(\u001b[0m\u001b[0mx_value\u001b[0m\u001b[0;34m,\u001b[0m \u001b[0my_value\u001b[0m\u001b[0;34m)\u001b[0m\u001b[0;34m\u001b[0m\u001b[0;34m\u001b[0m\u001b[0m\n\u001b[0m\u001b[1;32m      4\u001b[0m     \u001b[0mprint\u001b[0m\u001b[0;34m(\u001b[0m\u001b[0;34mf\"The r-squared is: {rvalue}\"\u001b[0m\u001b[0;34m)\u001b[0m\u001b[0;34m\u001b[0m\u001b[0;34m\u001b[0m\u001b[0m\n\u001b[1;32m      5\u001b[0m     \u001b[0mregress_values\u001b[0m \u001b[0;34m=\u001b[0m \u001b[0mx_value\u001b[0m \u001b[0;34m*\u001b[0m \u001b[0mslope\u001b[0m \u001b[0;34m+\u001b[0m \u001b[0mintercept\u001b[0m\u001b[0;34m\u001b[0m\u001b[0;34m\u001b[0m\u001b[0m\n",
      "\u001b[0;32m/opt/anaconda3/envs/PythonData/lib/python3.8/site-packages/scipy/stats/_stats_mstats_common.py\u001b[0m in \u001b[0;36mlinregress\u001b[0;34m(x, y)\u001b[0m\n\u001b[1;32m    114\u001b[0m \u001b[0;34m\u001b[0m\u001b[0m\n\u001b[1;32m    115\u001b[0m     \u001b[0;31m# average sum of squares:\u001b[0m\u001b[0;34m\u001b[0m\u001b[0;34m\u001b[0m\u001b[0;34m\u001b[0m\u001b[0m\n\u001b[0;32m--> 116\u001b[0;31m     \u001b[0mssxm\u001b[0m\u001b[0;34m,\u001b[0m \u001b[0mssxym\u001b[0m\u001b[0;34m,\u001b[0m \u001b[0mssyxm\u001b[0m\u001b[0;34m,\u001b[0m \u001b[0mssym\u001b[0m \u001b[0;34m=\u001b[0m \u001b[0mnp\u001b[0m\u001b[0;34m.\u001b[0m\u001b[0mcov\u001b[0m\u001b[0;34m(\u001b[0m\u001b[0mx\u001b[0m\u001b[0;34m,\u001b[0m \u001b[0my\u001b[0m\u001b[0;34m,\u001b[0m \u001b[0mbias\u001b[0m\u001b[0;34m=\u001b[0m\u001b[0;36m1\u001b[0m\u001b[0;34m)\u001b[0m\u001b[0;34m.\u001b[0m\u001b[0mflat\u001b[0m\u001b[0;34m\u001b[0m\u001b[0;34m\u001b[0m\u001b[0m\n\u001b[0m\u001b[1;32m    117\u001b[0m     \u001b[0mr_num\u001b[0m \u001b[0;34m=\u001b[0m \u001b[0mssxym\u001b[0m\u001b[0;34m\u001b[0m\u001b[0;34m\u001b[0m\u001b[0m\n\u001b[1;32m    118\u001b[0m     \u001b[0mr_den\u001b[0m \u001b[0;34m=\u001b[0m \u001b[0mnp\u001b[0m\u001b[0;34m.\u001b[0m\u001b[0msqrt\u001b[0m\u001b[0;34m(\u001b[0m\u001b[0mssxm\u001b[0m \u001b[0;34m*\u001b[0m \u001b[0mssym\u001b[0m\u001b[0;34m)\u001b[0m\u001b[0;34m\u001b[0m\u001b[0;34m\u001b[0m\u001b[0m\n",
      "\u001b[0;32m<__array_function__ internals>\u001b[0m in \u001b[0;36mcov\u001b[0;34m(*args, **kwargs)\u001b[0m\n",
      "\u001b[0;32m/opt/anaconda3/envs/PythonData/lib/python3.8/site-packages/numpy/lib/function_base.py\u001b[0m in \u001b[0;36mcov\u001b[0;34m(m, y, rowvar, bias, ddof, fweights, aweights)\u001b[0m\n\u001b[1;32m   2429\u001b[0m             \u001b[0mw\u001b[0m \u001b[0;34m*=\u001b[0m \u001b[0maweights\u001b[0m\u001b[0;34m\u001b[0m\u001b[0;34m\u001b[0m\u001b[0m\n\u001b[1;32m   2430\u001b[0m \u001b[0;34m\u001b[0m\u001b[0m\n\u001b[0;32m-> 2431\u001b[0;31m     \u001b[0mavg\u001b[0m\u001b[0;34m,\u001b[0m \u001b[0mw_sum\u001b[0m \u001b[0;34m=\u001b[0m \u001b[0maverage\u001b[0m\u001b[0;34m(\u001b[0m\u001b[0mX\u001b[0m\u001b[0;34m,\u001b[0m \u001b[0maxis\u001b[0m\u001b[0;34m=\u001b[0m\u001b[0;36m1\u001b[0m\u001b[0;34m,\u001b[0m \u001b[0mweights\u001b[0m\u001b[0;34m=\u001b[0m\u001b[0mw\u001b[0m\u001b[0;34m,\u001b[0m \u001b[0mreturned\u001b[0m\u001b[0;34m=\u001b[0m\u001b[0;32mTrue\u001b[0m\u001b[0;34m)\u001b[0m\u001b[0;34m\u001b[0m\u001b[0;34m\u001b[0m\u001b[0m\n\u001b[0m\u001b[1;32m   2432\u001b[0m     \u001b[0mw_sum\u001b[0m \u001b[0;34m=\u001b[0m \u001b[0mw_sum\u001b[0m\u001b[0;34m[\u001b[0m\u001b[0;36m0\u001b[0m\u001b[0;34m]\u001b[0m\u001b[0;34m\u001b[0m\u001b[0;34m\u001b[0m\u001b[0m\n\u001b[1;32m   2433\u001b[0m \u001b[0;34m\u001b[0m\u001b[0m\n",
      "\u001b[0;32m<__array_function__ internals>\u001b[0m in \u001b[0;36maverage\u001b[0;34m(*args, **kwargs)\u001b[0m\n",
      "\u001b[0;32m/opt/anaconda3/envs/PythonData/lib/python3.8/site-packages/numpy/lib/function_base.py\u001b[0m in \u001b[0;36maverage\u001b[0;34m(a, axis, weights, returned)\u001b[0m\n\u001b[1;32m    426\u001b[0m \u001b[0;34m\u001b[0m\u001b[0m\n\u001b[1;32m    427\u001b[0m     \u001b[0;32mif\u001b[0m \u001b[0mreturned\u001b[0m\u001b[0;34m:\u001b[0m\u001b[0;34m\u001b[0m\u001b[0;34m\u001b[0m\u001b[0m\n\u001b[0;32m--> 428\u001b[0;31m         \u001b[0;32mif\u001b[0m \u001b[0mscl\u001b[0m\u001b[0;34m.\u001b[0m\u001b[0mshape\u001b[0m \u001b[0;34m!=\u001b[0m \u001b[0mavg\u001b[0m\u001b[0;34m.\u001b[0m\u001b[0mshape\u001b[0m\u001b[0;34m:\u001b[0m\u001b[0;34m\u001b[0m\u001b[0;34m\u001b[0m\u001b[0m\n\u001b[0m\u001b[1;32m    429\u001b[0m             \u001b[0mscl\u001b[0m \u001b[0;34m=\u001b[0m \u001b[0mnp\u001b[0m\u001b[0;34m.\u001b[0m\u001b[0mbroadcast_to\u001b[0m\u001b[0;34m(\u001b[0m\u001b[0mscl\u001b[0m\u001b[0;34m,\u001b[0m \u001b[0mavg\u001b[0m\u001b[0;34m.\u001b[0m\u001b[0mshape\u001b[0m\u001b[0;34m)\u001b[0m\u001b[0;34m.\u001b[0m\u001b[0mcopy\u001b[0m\u001b[0;34m(\u001b[0m\u001b[0;34m)\u001b[0m\u001b[0;34m\u001b[0m\u001b[0;34m\u001b[0m\u001b[0m\n\u001b[1;32m    430\u001b[0m         \u001b[0;32mreturn\u001b[0m \u001b[0mavg\u001b[0m\u001b[0;34m,\u001b[0m \u001b[0mscl\u001b[0m\u001b[0;34m\u001b[0m\u001b[0;34m\u001b[0m\u001b[0m\n",
      "\u001b[0;31mAttributeError\u001b[0m: 'float' object has no attribute 'shape'"
     ]
    }
   ],
   "source": [
    "x_value = nothern_hemisphere['Lat']\n",
    "y_value = nothern_hemisphere['Max Temp (\\u00b0F)'] \n",
    "x_label = 'Lat'\n",
    "y_label = 'Max Temp (\\u00b0F)'\n",
    "plotLinRegress(x_value,y_value,x_label,y_label,5)"
   ]
  },
  {
   "cell_type": "markdown",
   "metadata": {},
   "source": [
    "####  Southern Hemisphere - Max Temp vs. Latitude Linear Regression"
   ]
  },
  {
   "cell_type": "code",
   "execution_count": 17,
   "metadata": {},
   "outputs": [
    {
     "name": "stdout",
     "output_type": "stream",
     "text": [
      "The r-squared is: 0.39936284758885965\n"
     ]
    },
    {
     "data": {
      "image/png": "[encoded data removed]",
      "text/plain": [
       "<Figure size 432x288 with 1 Axes>"
      ]
     },
     "metadata": {
      "needs_background": "light"
     },
     "output_type": "display_data"
    }
   ],
   "source": []
  },
  {
   "cell_type": "markdown",
   "metadata": {},
   "source": [
    "####  Northern Hemisphere - Humidity (%) vs. Latitude Linear Regression"
   ]
  },
  {
   "cell_type": "code",
   "execution_count": 18,
   "metadata": {},
   "outputs": [
    {
     "name": "stdout",
     "output_type": "stream",
     "text": [
      "The r-squared is: 0.10829462153873139\n"
     ]
    },
    {
     "data": {
      "image/png": "[encoded data removed]",
      "text/plain": [
       "<Figure size 432x288 with 1 Axes>"
      ]
     },
     "metadata": {
      "needs_background": "light"
     },
     "output_type": "display_data"
    }
   ],
   "source": []
  },
  {
   "cell_type": "markdown",
   "metadata": {},
   "source": [
    "####  Southern Hemisphere - Humidity (%) vs. Latitude Linear Regression"
   ]
  },
  {
   "cell_type": "code",
   "execution_count": 19,
   "metadata": {},
   "outputs": [
    {
     "name": "stdout",
     "output_type": "stream",
     "text": [
      "The r-squared is: 0.0008996079328825663\n"
     ]
    },
    {
     "data": {
      "image/png": "[encoded data removed]",
      "text/plain": [
       "<Figure size 432x288 with 1 Axes>"
      ]
     },
     "metadata": {
      "needs_background": "light"
     },
     "output_type": "display_data"
    }
   ],
   "source": []
  },
  {
   "cell_type": "markdown",
   "metadata": {},
   "source": [
    "####  Northern Hemisphere - Cloudiness (%) vs. Latitude Linear Regression"
   ]
  },
  {
   "cell_type": "code",
   "execution_count": 20,
   "metadata": {},
   "outputs": [
    {
     "name": "stdout",
     "output_type": "stream",
     "text": [
      "The r-squared is: 0.05768812657005063\n"
     ]
    },
    {
     "data": {
      "image/png": "[encoded data removed]",
      "text/plain": [
       "<Figure size 432x288 with 1 Axes>"
      ]
     },
     "metadata": {
      "needs_background": "light"
     },
     "output_type": "display_data"
    }
   ],
   "source": []
  },
  {
   "cell_type": "markdown",
   "metadata": {},
   "source": [
    "####  Southern Hemisphere - Cloudiness (%) vs. Latitude Linear Regression"
   ]
  },
  {
   "cell_type": "code",
   "execution_count": 21,
   "metadata": {},
   "outputs": [
    {
     "name": "stdout",
     "output_type": "stream",
     "text": [
      "The r-squared is: 0.0684912094859049\n"
     ]
    },
    {
     "data": {
      "image/png": "[encoded data removed]",
      "text/plain": [
       "<Figure size 432x288 with 1 Axes>"
      ]
     },
     "metadata": {
      "needs_background": "light"
     },
     "output_type": "display_data"
    }
   ],
   "source": []
  },
  {
   "cell_type": "markdown",
   "metadata": {},
   "source": [
    "####  Northern Hemisphere - Wind Speed (mph) vs. Latitude Linear Regression"
   ]
  },
  {
   "cell_type": "code",
   "execution_count": 22,
   "metadata": {},
   "outputs": [
    {
     "name": "stdout",
     "output_type": "stream",
     "text": [
      "The r-squared is: 0.023371104533850804\n"
     ]
    },
    {
     "data": {
      "image/png": "[encoded data removed]",
      "text/plain": [
       "<Figure size 432x288 with 1 Axes>"
      ]
     },
     "metadata": {
      "needs_background": "light"
     },
     "output_type": "display_data"
    }
   ],
   "source": []
  },
  {
   "cell_type": "markdown",
   "metadata": {},
   "source": [
    "####  Southern Hemisphere - Wind Speed (mph) vs. Latitude Linear Regression"
   ]
  },
  {
   "cell_type": "code",
   "execution_count": 23,
   "metadata": {},
   "outputs": [
    {
     "name": "stdout",
     "output_type": "stream",
     "text": [
      "The r-squared is: 0.03381889207758188\n"
     ]
    },
    {
     "data": {
      "image/png": "[encoded data removed]",
      "text/plain": [
       "<Figure size 432x288 with 1 Axes>"
      ]
     },
     "metadata": {
      "needs_background": "light"
     },
     "output_type": "display_data"
    }
   ],
   "source": []
  },
  {
   "cell_type": "code",
   "execution_count": null,
   "metadata": {},
   "outputs": [],
   "source": []
  }
 ],
 "metadata": {
  "anaconda-cloud": {},
  "kernel_info": {
   "name": "python3"
  },
  "kernelspec": {
   "display_name": "Python 3",
   "language": "python",
   "name": "python3"
  },
  "language_info": {
   "codemirror_mode": {
    "name": "ipython",
    "version": 3
   },
   "file_extension": ".py",
   "mimetype": "text/x-python",
   "name": "python",
   "nbconvert_exporter": "python",
   "pygments_lexer": "ipython3",
   "version": "3.8.2"
  },
  "latex_envs": {
   "LaTeX_envs_menu_present": true,
   "autoclose": false,
   "autocomplete": true,
   "bibliofile": "biblio.bib",
   "cite_by": "apalike",
   "current_citInitial": 1,
   "eqLabelWithNumbers": true,
   "eqNumInitial": 1,
   "hotkeys": {
    "equation": "Ctrl-E",
    "itemize": "Ctrl-I"
   },
   "labels_anchors": false,
   "latex_user_defs": false,
   "report_style_numbering": false,
   "user_envs_cfg": false
  },
  "nteract": {
   "version": "0.12.3"
  }
 },
 "nbformat": 4,
 "nbformat_minor": 2
}
